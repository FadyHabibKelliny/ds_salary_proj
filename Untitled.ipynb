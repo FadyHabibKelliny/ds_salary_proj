{
 "cells": [
  {
   "cell_type": "code",
   "execution_count": 2,
   "metadata": {},
   "outputs": [],
   "source": [
    "import pandas as pd\n",
    "import matplotlib.pyplot as plt\n",
    "import seaborn as sns"
   ]
  },
  {
   "cell_type": "code",
   "execution_count": 3,
   "metadata": {},
   "outputs": [],
   "source": [
    "df = pd.read_csv(\"salary_data_cleard.csv\")"
   ]
  },
  {
   "cell_type": "code",
   "execution_count": 4,
   "metadata": {},
   "outputs": [
    {
     "data": {
      "text/html": [
       "<div>\n",
       "<style scoped>\n",
       "    .dataframe tbody tr th:only-of-type {\n",
       "        vertical-align: middle;\n",
       "    }\n",
       "\n",
       "    .dataframe tbody tr th {\n",
       "        vertical-align: top;\n",
       "    }\n",
       "\n",
       "    .dataframe thead th {\n",
       "        text-align: right;\n",
       "    }\n",
       "</style>\n",
       "<table border=\"1\" class=\"dataframe\">\n",
       "  <thead>\n",
       "    <tr style=\"text-align: right;\">\n",
       "      <th></th>\n",
       "      <th>Job Title</th>\n",
       "      <th>Salary Estimate</th>\n",
       "      <th>Job Description</th>\n",
       "      <th>Rating</th>\n",
       "      <th>Company Name</th>\n",
       "      <th>Location</th>\n",
       "      <th>Headquarters</th>\n",
       "      <th>Size</th>\n",
       "      <th>Founded</th>\n",
       "      <th>Type of ownership</th>\n",
       "      <th>...</th>\n",
       "      <th>max_salary</th>\n",
       "      <th>avg_salary</th>\n",
       "      <th>Company_text</th>\n",
       "      <th>check_state</th>\n",
       "      <th>state1</th>\n",
       "      <th>python_yn</th>\n",
       "      <th>r_studio</th>\n",
       "      <th>spark</th>\n",
       "      <th>aws</th>\n",
       "      <th>excel</th>\n",
       "    </tr>\n",
       "  </thead>\n",
       "  <tbody>\n",
       "    <tr>\n",
       "      <th>0</th>\n",
       "      <td>Data Scientist</td>\n",
       "      <td>$78K-$133K (Glassdoor est.)</td>\n",
       "      <td>Publishers Clearing House (PCH), located in Je...</td>\n",
       "      <td>3.3</td>\n",
       "      <td>Publishers Clearing House\\n3.3</td>\n",
       "      <td>Jericho, NY</td>\n",
       "      <td>-1</td>\n",
       "      <td>501 to 1000 Employees</td>\n",
       "      <td>1953</td>\n",
       "      <td>Company - Private</td>\n",
       "      <td>...</td>\n",
       "      <td>133</td>\n",
       "      <td>105.5</td>\n",
       "      <td>Publishers Clearing House\\n</td>\n",
       "      <td>1</td>\n",
       "      <td>NY</td>\n",
       "      <td>1</td>\n",
       "      <td>0</td>\n",
       "      <td>0</td>\n",
       "      <td>1</td>\n",
       "      <td>1</td>\n",
       "    </tr>\n",
       "    <tr>\n",
       "      <th>1</th>\n",
       "      <td>Data Scientist</td>\n",
       "      <td>$78K-$133K (Glassdoor est.)</td>\n",
       "      <td>Description\\n\\nJob Description:\\n\\nLeidos has ...</td>\n",
       "      <td>3.6</td>\n",
       "      <td>Leidos\\n3.6</td>\n",
       "      <td>McLean, VA</td>\n",
       "      <td>-1</td>\n",
       "      <td>10000+ Employees</td>\n",
       "      <td>1969</td>\n",
       "      <td>Company - Public</td>\n",
       "      <td>...</td>\n",
       "      <td>133</td>\n",
       "      <td>105.5</td>\n",
       "      <td>Leidos\\n</td>\n",
       "      <td>1</td>\n",
       "      <td>VA</td>\n",
       "      <td>1</td>\n",
       "      <td>0</td>\n",
       "      <td>0</td>\n",
       "      <td>1</td>\n",
       "      <td>1</td>\n",
       "    </tr>\n",
       "    <tr>\n",
       "      <th>2</th>\n",
       "      <td>Senior Data Scientist Virtual Hiring Event</td>\n",
       "      <td>$78K-$133K (Glassdoor est.)</td>\n",
       "      <td>The Zebra Hiring Event // Senior Data Scientis...</td>\n",
       "      <td>4.0</td>\n",
       "      <td>The Zebra\\n4.0</td>\n",
       "      <td>Austin, TX</td>\n",
       "      <td>-1</td>\n",
       "      <td>51 to 200 Employees</td>\n",
       "      <td>2012</td>\n",
       "      <td>Company - Private</td>\n",
       "      <td>...</td>\n",
       "      <td>133</td>\n",
       "      <td>105.5</td>\n",
       "      <td>The Zebra\\n</td>\n",
       "      <td>1</td>\n",
       "      <td>TX</td>\n",
       "      <td>1</td>\n",
       "      <td>0</td>\n",
       "      <td>0</td>\n",
       "      <td>0</td>\n",
       "      <td>0</td>\n",
       "    </tr>\n",
       "    <tr>\n",
       "      <th>3</th>\n",
       "      <td>Data Scientist Virtual Hiring Event</td>\n",
       "      <td>$78K-$133K (Glassdoor est.)</td>\n",
       "      <td>Orbis Operations Hiring Event!\\n\\nEvent Detail...</td>\n",
       "      <td>3.7</td>\n",
       "      <td>Orbis Operations\\n3.7</td>\n",
       "      <td>Fort Meade, MD</td>\n",
       "      <td>-1</td>\n",
       "      <td>201 to 500 Employees</td>\n",
       "      <td>-1</td>\n",
       "      <td>Company - Private</td>\n",
       "      <td>...</td>\n",
       "      <td>133</td>\n",
       "      <td>105.5</td>\n",
       "      <td>Orbis Operations\\n</td>\n",
       "      <td>1</td>\n",
       "      <td>MD</td>\n",
       "      <td>1</td>\n",
       "      <td>0</td>\n",
       "      <td>0</td>\n",
       "      <td>0</td>\n",
       "      <td>0</td>\n",
       "    </tr>\n",
       "    <tr>\n",
       "      <th>4</th>\n",
       "      <td>Data Scientist Virtual Hiring Event</td>\n",
       "      <td>$78K-$133K (Glassdoor est.)</td>\n",
       "      <td>LMI Hiring Event!\\n\\nEvent Details\\nDate: Wedn...</td>\n",
       "      <td>4.2</td>\n",
       "      <td>LMI\\n4.2</td>\n",
       "      <td>Baltimore, MD</td>\n",
       "      <td>-1</td>\n",
       "      <td>1001 to 5000 Employees</td>\n",
       "      <td>1961</td>\n",
       "      <td>Nonprofit Organization</td>\n",
       "      <td>...</td>\n",
       "      <td>133</td>\n",
       "      <td>105.5</td>\n",
       "      <td>LMI\\n</td>\n",
       "      <td>1</td>\n",
       "      <td>MD</td>\n",
       "      <td>1</td>\n",
       "      <td>0</td>\n",
       "      <td>0</td>\n",
       "      <td>0</td>\n",
       "      <td>0</td>\n",
       "    </tr>\n",
       "  </tbody>\n",
       "</table>\n",
       "<p>5 rows × 27 columns</p>\n",
       "</div>"
      ],
      "text/plain": [
       "                                    Job Title              Salary Estimate  \\\n",
       "0                              Data Scientist  $78K-$133K (Glassdoor est.)   \n",
       "1                              Data Scientist  $78K-$133K (Glassdoor est.)   \n",
       "2  Senior Data Scientist Virtual Hiring Event  $78K-$133K (Glassdoor est.)   \n",
       "3         Data Scientist Virtual Hiring Event  $78K-$133K (Glassdoor est.)   \n",
       "4         Data Scientist Virtual Hiring Event  $78K-$133K (Glassdoor est.)   \n",
       "\n",
       "                                     Job Description  Rating  \\\n",
       "0  Publishers Clearing House (PCH), located in Je...     3.3   \n",
       "1  Description\\n\\nJob Description:\\n\\nLeidos has ...     3.6   \n",
       "2  The Zebra Hiring Event // Senior Data Scientis...     4.0   \n",
       "3  Orbis Operations Hiring Event!\\n\\nEvent Detail...     3.7   \n",
       "4  LMI Hiring Event!\\n\\nEvent Details\\nDate: Wedn...     4.2   \n",
       "\n",
       "                     Company Name        Location  Headquarters  \\\n",
       "0  Publishers Clearing House\\n3.3     Jericho, NY            -1   \n",
       "1                     Leidos\\n3.6      McLean, VA            -1   \n",
       "2                  The Zebra\\n4.0      Austin, TX            -1   \n",
       "3           Orbis Operations\\n3.7  Fort Meade, MD            -1   \n",
       "4                        LMI\\n4.2   Baltimore, MD            -1   \n",
       "\n",
       "                     Size  Founded       Type of ownership  ...  max_salary  \\\n",
       "0   501 to 1000 Employees     1953       Company - Private  ...         133   \n",
       "1        10000+ Employees     1969        Company - Public  ...         133   \n",
       "2     51 to 200 Employees     2012       Company - Private  ...         133   \n",
       "3    201 to 500 Employees       -1       Company - Private  ...         133   \n",
       "4  1001 to 5000 Employees     1961  Nonprofit Organization  ...         133   \n",
       "\n",
       "  avg_salary                 Company_text  check_state  state1  python_yn  \\\n",
       "0      105.5  Publishers Clearing House\\n            1      NY          1   \n",
       "1      105.5                     Leidos\\n            1      VA          1   \n",
       "2      105.5                  The Zebra\\n            1      TX          1   \n",
       "3      105.5           Orbis Operations\\n            1      MD          1   \n",
       "4      105.5                        LMI\\n            1      MD          1   \n",
       "\n",
       "   r_studio  spark  aws excel  \n",
       "0         0      0    1     1  \n",
       "1         0      0    1     1  \n",
       "2         0      0    0     0  \n",
       "3         0      0    0     0  \n",
       "4         0      0    0     0  \n",
       "\n",
       "[5 rows x 27 columns]"
      ]
     },
     "execution_count": 4,
     "metadata": {},
     "output_type": "execute_result"
    }
   ],
   "source": [
    "df.head()"
   ]
  },
  {
   "cell_type": "code",
   "execution_count": 16,
   "metadata": {},
   "outputs": [
    {
     "data": {
      "text/plain": [
       "Index(['Job Title', 'Salary Estimate', 'Job Description', 'Rating',\n",
       "       'Company Name', 'Location', 'Headquarters', 'Size', 'Founded',\n",
       "       'Type of ownership', 'Industry', 'Sector', 'Revenue', 'Competitors',\n",
       "       'hourly', 'employer salary', 'min_salary', 'max_salary', 'avg_salary',\n",
       "       'Company_text', 'check_state', 'state1', 'python_yn', 'r_studio',\n",
       "       'spark', 'aws', 'excel', 'job_simp', 'sniortiy'],\n",
       "      dtype='object')"
      ]
     },
     "execution_count": 16,
     "metadata": {},
     "output_type": "execute_result"
    }
   ],
   "source": [
    "df.columns"
   ]
  },
  {
   "cell_type": "code",
   "execution_count": 43,
   "metadata": {},
   "outputs": [],
   "source": [
    "#funtion to select the job title we need\n",
    "def title_simplifier(title):\n",
    "    if 'data scientist' in title.lower():\n",
    "        return 'data scientist'\n",
    "    elif 'data science' in title.lower():\n",
    "        return 'data scientist'\n",
    "    elif 'data analyst' in title.lower():\n",
    "        return 'data analyst'\n",
    "    elif 'analyst' in title.lower():\n",
    "        return 'analyst'\n",
    "    elif 'machine learning' in title.lower():\n",
    "        return 'machine learning'\n",
    "    elif 'manager' in title.lower():\n",
    "        return 'manager'\n",
    "    elif 'director' in title.lower():\n",
    "        return 'director'\n",
    "    else:\n",
    "        return 'NA'\n",
    "    \n",
    "#funtion to select seniortiy level\n",
    "def seniortiy(title):\n",
    "    if 'sr' in title.lower() or 'senior' in title.lower() or 'lead' in title.lower() or 'principal' in title.lower():\n",
    "        return 'senior'\n",
    "\n",
    "    elif 'jr' in title.lower() or 'jr.' in title.lower():\n",
    "        return 'jr'\n",
    "    else:\n",
    "        return 'NA'\n",
    "    \n",
    "    \n",
    "def remove(string): \n",
    "    return string.replace(\" \", \"\") "
   ]
  },
  {
   "cell_type": "code",
   "execution_count": 18,
   "metadata": {},
   "outputs": [],
   "source": [
    "df['job_simp'] =  df['Job Title'].apply(title_simplifier)"
   ]
  },
  {
   "cell_type": "code",
   "execution_count": 19,
   "metadata": {},
   "outputs": [
    {
     "data": {
      "text/plain": [
       "data scientist      813\n",
       "NA                  155\n",
       "machine learning     15\n",
       "data analyst         12\n",
       "manager               4\n",
       "director              1\n",
       "Name: job_simp, dtype: int64"
      ]
     },
     "execution_count": 19,
     "metadata": {},
     "output_type": "execute_result"
    }
   ],
   "source": [
    "df.job_simp.value_counts()"
   ]
  },
  {
   "cell_type": "code",
   "execution_count": 32,
   "metadata": {},
   "outputs": [
    {
     "data": {
      "text/plain": [
       "NA        865\n",
       "senior    135\n",
       "Name: seniortiy, dtype: int64"
      ]
     },
     "execution_count": 32,
     "metadata": {},
     "output_type": "execute_result"
    }
   ],
   "source": [
    "df['seniortiy'] =  df['Job Title'].apply(seniortiy)\n",
    "df.seniortiy.value_counts()"
   ]
  },
  {
   "cell_type": "code",
   "execution_count": 42,
   "metadata": {},
   "outputs": [
    {
     "data": {
      "text/plain": [
       "  ca             235\n",
       "  va             156\n",
       " ma               67\n",
       " md               65\n",
       " ny               52\n",
       " il               41\n",
       " dc               37\n",
       "   tx             34\n",
       "re mote           30\n",
       " wa               29\n",
       "united states     26\n",
       " pa               20\n",
       " fl               18\n",
       "  mo              17\n",
       " mi               17\n",
       "  nj              17\n",
       " al               16\n",
       " oh               16\n",
       " ga               15\n",
       " nc               12\n",
       "  ut              11\n",
       " co               10\n",
       " tn                9\n",
       " wi                8\n",
       " sc                6\n",
       " mn                6\n",
       "  in               4\n",
       " va                4\n",
       " ct                4\n",
       " in                3\n",
       " ne                3\n",
       " or                2\n",
       " nv                2\n",
       " mo                2\n",
       " ms                1\n",
       " ri                1\n",
       " nj                1\n",
       " ak                1\n",
       " ia                1\n",
       " nm                1\n",
       "Name: state1, dtype: int64"
      ]
     },
     "execution_count": 42,
     "metadata": {},
     "output_type": "execute_result"
    }
   ],
   "source": []
  },
  {
   "cell_type": "code",
   "execution_count": 48,
   "metadata": {},
   "outputs": [],
   "source": [
    "\n",
    "\n"
   ]
  },
  {
   "cell_type": "code",
   "execution_count": 51,
   "metadata": {},
   "outputs": [
    {
     "data": {
      "text/plain": [
       "ca              235\n",
       "va              160\n",
       "ma               67\n",
       "md               65\n",
       "ny               52\n",
       "il               41\n",
       "dc               37\n",
       "tx               34\n",
       "remote           30\n",
       "wa               29\n",
       "unitedstates     26\n",
       "pa               20\n",
       "mo               19\n",
       "fl               18\n",
       "nj               18\n",
       "mi               17\n",
       "oh               16\n",
       "al               16\n",
       "ga               15\n",
       "nc               12\n",
       "ut               11\n",
       "co               10\n",
       "tn                9\n",
       "wi                8\n",
       "in                7\n",
       "mn                6\n",
       "sc                6\n",
       "ct                4\n",
       "ne                3\n",
       "nv                2\n",
       "or                2\n",
       "ak                1\n",
       "ri                1\n",
       "nm                1\n",
       "ms                1\n",
       "ia                1\n",
       "Name: state1, dtype: int64"
      ]
     },
     "execution_count": 51,
     "metadata": {},
     "output_type": "execute_result"
    }
   ],
   "source": []
  },
  {
   "cell_type": "code",
   "execution_count": null,
   "metadata": {},
   "outputs": [],
   "source": []
  }
 ],
 "metadata": {
  "kernelspec": {
   "display_name": "Python 3",
   "language": "python",
   "name": "python3"
  },
  "language_info": {
   "codemirror_mode": {
    "name": "ipython",
    "version": 3
   },
   "file_extension": ".py",
   "mimetype": "text/x-python",
   "name": "python",
   "nbconvert_exporter": "python",
   "pygments_lexer": "ipython3",
   "version": "3.6.5"
  }
 },
 "nbformat": 4,
 "nbformat_minor": 2
}
